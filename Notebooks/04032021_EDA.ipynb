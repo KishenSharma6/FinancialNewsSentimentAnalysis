{
 "cells": [
  {
   "cell_type": "code",
   "execution_count": 1,
   "id": "fe4c94e7",
   "metadata": {},
   "outputs": [],
   "source": [
    "import pandas as pd\n",
    "import numpy as np\n",
    "import matplotlib.pyplot as plt\n",
    "import seaborn as sns\n",
    "import yaml\n",
    "import os"
   ]
  },
  {
   "cell_type": "code",
   "execution_count": 2,
   "id": "9f80b60c",
   "metadata": {},
   "outputs": [],
   "source": [
    "#Set notebook preferences\n",
    "pd.set_option('display.max_colwidth', None)\n",
    "\n",
    "plt.style.use('ggplot')"
   ]
  },
  {
   "cell_type": "code",
   "execution_count": 3,
   "id": "86e94dca",
   "metadata": {},
   "outputs": [],
   "source": [
    "#Read in rawData\n",
    "path= r'/Users/ksharma/Documents/ML Engineer/Machine Learning/Projects/FinancialNewsSentimentAnalysis/'\n",
    "config_name= 'config.yaml'\n",
    "\n",
    "#read yaml file\n",
    "with open(os.path.join(path, config_name)) as file:\n",
    "    config = yaml.safe_load(file)\n",
    "    \n",
    "rawData= pd.read_csv(config['paths']['rawData'], header=None)\n",
    "rawData.columns= ['sentiment', 'newsHeadline']"
   ]
  },
  {
   "cell_type": "markdown",
   "id": "b7c33782",
   "metadata": {},
   "source": [
    "**Preview Data**"
   ]
  },
  {
   "cell_type": "code",
   "execution_count": 4,
   "id": "7c0f3d3a",
   "metadata": {},
   "outputs": [
    {
     "name": "stdout",
     "output_type": "stream",
     "text": [
      "Data Shape: (4846, 2)\n",
      "\n",
      "Value counts: \n",
      "neutral     2879\n",
      "positive    1363\n",
      "negative     604\n",
      "Name: sentiment, dtype: int64\n",
      "\n"
     ]
    },
    {
     "data": {
      "text/html": [
       "<div>\n",
       "<style scoped>\n",
       "    .dataframe tbody tr th:only-of-type {\n",
       "        vertical-align: middle;\n",
       "    }\n",
       "\n",
       "    .dataframe tbody tr th {\n",
       "        vertical-align: top;\n",
       "    }\n",
       "\n",
       "    .dataframe thead th {\n",
       "        text-align: right;\n",
       "    }\n",
       "</style>\n",
       "<table border=\"1\" class=\"dataframe\">\n",
       "  <thead>\n",
       "    <tr style=\"text-align: right;\">\n",
       "      <th></th>\n",
       "      <th>sentiment</th>\n",
       "      <th>newsHeadline</th>\n",
       "    </tr>\n",
       "  </thead>\n",
       "  <tbody>\n",
       "    <tr>\n",
       "      <th>0</th>\n",
       "      <td>neutral</td>\n",
       "      <td>According to Gran , the company has no plans to move all production to Russia , although that is where the company is growing .</td>\n",
       "    </tr>\n",
       "    <tr>\n",
       "      <th>1</th>\n",
       "      <td>neutral</td>\n",
       "      <td>Technopolis plans to develop in stages an area of no less than 100,000 square meters in order to host companies working in computer technologies and telecommunications , the statement said .</td>\n",
       "    </tr>\n",
       "    <tr>\n",
       "      <th>2</th>\n",
       "      <td>negative</td>\n",
       "      <td>The international electronic industry company Elcoteq has laid off tens of employees from its Tallinn facility ; contrary to earlier layoffs the company contracted the ranks of its office workers , the daily Postimees reported .</td>\n",
       "    </tr>\n",
       "    <tr>\n",
       "      <th>3</th>\n",
       "      <td>positive</td>\n",
       "      <td>With the new production plant the company would increase its capacity to meet the expected increase in demand and would improve the use of raw materials and therefore increase the production profitability .</td>\n",
       "    </tr>\n",
       "    <tr>\n",
       "      <th>4</th>\n",
       "      <td>positive</td>\n",
       "      <td>According to the company 's updated strategy for the years 2009-2012 , Basware targets a long-term net sales growth in the range of 20 % -40 % with an operating profit margin of 10 % -20 % of net sales .</td>\n",
       "    </tr>\n",
       "  </tbody>\n",
       "</table>\n",
       "</div>"
      ],
      "text/plain": [
       "  sentiment  \\\n",
       "0   neutral   \n",
       "1   neutral   \n",
       "2  negative   \n",
       "3  positive   \n",
       "4  positive   \n",
       "\n",
       "                                                                                                                                                                                                                           newsHeadline  \n",
       "0                                                                                                       According to Gran , the company has no plans to move all production to Russia , although that is where the company is growing .  \n",
       "1                                        Technopolis plans to develop in stages an area of no less than 100,000 square meters in order to host companies working in computer technologies and telecommunications , the statement said .  \n",
       "2  The international electronic industry company Elcoteq has laid off tens of employees from its Tallinn facility ; contrary to earlier layoffs the company contracted the ranks of its office workers , the daily Postimees reported .  \n",
       "3                        With the new production plant the company would increase its capacity to meet the expected increase in demand and would improve the use of raw materials and therefore increase the production profitability .  \n",
       "4                           According to the company 's updated strategy for the years 2009-2012 , Basware targets a long-term net sales growth in the range of 20 % -40 % with an operating profit margin of 10 % -20 % of net sales .  "
      ]
     },
     "metadata": {},
     "output_type": "display_data"
    }
   ],
   "source": [
    "print('Data Shape: %s\\n' % (str(rawData.shape)))\n",
    "print('Value counts: \\n%s\\n' % (rawData['sentiment'].value_counts()))\n",
    "display(rawData.head())"
   ]
  },
  {
   "cell_type": "markdown",
   "id": "6e5202d4",
   "metadata": {},
   "source": [
    "Missing Data"
   ]
  },
  {
   "cell_type": "code",
   "execution_count": 5,
   "id": "bb71cadf",
   "metadata": {},
   "outputs": [
    {
     "data": {
      "text/plain": [
       "sentiment       0\n",
       "newsHeadline    0\n",
       "dtype: int64"
      ]
     },
     "metadata": {},
     "output_type": "display_data"
    }
   ],
   "source": [
    "#Check value counts\n",
    "display(rawData.isna().sum())"
   ]
  },
  {
   "cell_type": "markdown",
   "id": "83a52032",
   "metadata": {},
   "source": [
    "### EDA"
   ]
  },
  {
   "cell_type": "markdown",
   "id": "d082cd78",
   "metadata": {},
   "source": [
    "Label Counts"
   ]
  },
  {
   "cell_type": "code",
   "execution_count": 6,
   "id": "dcd8f32a",
   "metadata": {},
   "outputs": [
    {
     "data": {
      "text/plain": [
       "Text(0, 0.5, '')"
      ]
     },
     "execution_count": 6,
     "metadata": {},
     "output_type": "execute_result"
    },
    {
     "data": {
      "image/png": "[encoded data removed]",
      "text/plain": [
       "<Figure size 576x360 with 1 Axes>"
      ]
     },
     "metadata": {},
     "output_type": "display_data"
    }
   ],
   "source": [
    "f, ax= plt.subplots(figsize= (8,5))\n",
    "\n",
    "j= sns.countplot(x= rawData['sentiment'], ax= ax, data= rawData);\n",
    "\n",
    "j.set_title('Sentiment Label Counts')\n",
    "j.set_xlabel('')\n",
    "j.set_ylabel('')"
   ]
  },
  {
   "cell_type": "markdown",
   "id": "d331aa0a",
   "metadata": {},
   "source": [
    "Word Counts per Sentiment"
   ]
  },
  {
   "cell_type": "code",
   "execution_count": 7,
   "id": "008942ca",
   "metadata": {},
   "outputs": [],
   "source": [
    "os.chdir('/Users/ksharma/Documents/ML Engineer/Machine Learning/Projects/FinancialNewsSentimentAnalysis')\n",
    "\n",
    "from src.preprocessing.preprocessing import Preprocessor"
   ]
  },
  {
   "cell_type": "code",
   "execution_count": 8,
   "id": "b5b2554e",
   "metadata": {},
   "outputs": [
    {
     "data": {
      "text/html": [
       "<div>\n",
       "<style scoped>\n",
       "    .dataframe tbody tr th:only-of-type {\n",
       "        vertical-align: middle;\n",
       "    }\n",
       "\n",
       "    .dataframe tbody tr th {\n",
       "        vertical-align: top;\n",
       "    }\n",
       "\n",
       "    .dataframe thead th {\n",
       "        text-align: right;\n",
       "    }\n",
       "</style>\n",
       "<table border=\"1\" class=\"dataframe\">\n",
       "  <thead>\n",
       "    <tr style=\"text-align: right;\">\n",
       "      <th></th>\n",
       "      <th>sentiment</th>\n",
       "      <th>newsHeadline</th>\n",
       "      <th>lemmaTokens</th>\n",
       "    </tr>\n",
       "  </thead>\n",
       "  <tbody>\n",
       "    <tr>\n",
       "      <th>0</th>\n",
       "      <td>neutral</td>\n",
       "      <td>According to Gran , the company has no plans to move all production to Russia , although that is where the company is growing .</td>\n",
       "      <td>[according, to, gran, the, company, ha, no, plan, to, move, all, production, to, russia, although, that, is, where, the, company, is, growing]</td>\n",
       "    </tr>\n",
       "    <tr>\n",
       "      <th>1</th>\n",
       "      <td>neutral</td>\n",
       "      <td>Technopolis plans to develop in stages an area of no less than 100,000 square meters in order to host companies working in computer technologies and telecommunications , the statement said .</td>\n",
       "      <td>[technopolis, plan, to, develop, in, stage, an, area, of, no, le, than, 100000, square, meter, in, order, to, host, company, working, in, computer, technology, and, telecommunication, the, statement, said]</td>\n",
       "    </tr>\n",
       "    <tr>\n",
       "      <th>2</th>\n",
       "      <td>negative</td>\n",
       "      <td>The international electronic industry company Elcoteq has laid off tens of employees from its Tallinn facility ; contrary to earlier layoffs the company contracted the ranks of its office workers , the daily Postimees reported .</td>\n",
       "      <td>[the, international, electronic, industry, company, elcoteq, ha, laid, off, ten, of, employee, from, it, tallinn, facility, contrary, to, earlier, layoff, the, company, contracted, the, rank, of, it, office, worker, the, daily, postimees, reported]</td>\n",
       "    </tr>\n",
       "    <tr>\n",
       "      <th>3</th>\n",
       "      <td>positive</td>\n",
       "      <td>With the new production plant the company would increase its capacity to meet the expected increase in demand and would improve the use of raw materials and therefore increase the production profitability .</td>\n",
       "      <td>[with, the, new, production, plant, the, company, would, increase, it, capacity, to, meet, the, expected, increase, in, demand, and, would, improve, the, use, of, raw, material, and, therefore, increase, the, production, profitability]</td>\n",
       "    </tr>\n",
       "    <tr>\n",
       "      <th>4</th>\n",
       "      <td>positive</td>\n",
       "      <td>According to the company 's updated strategy for the years 2009-2012 , Basware targets a long-term net sales growth in the range of 20 % -40 % with an operating profit margin of 10 % -20 % of net sales .</td>\n",
       "      <td>[according, to, the, company, s, updated, strategy, for, the, year, 20092012, basware, target, a, longterm, net, sale, growth, in, the, range, of, 20, 40, with, an, operating, profit, margin, of, 10, 20, of, net, sale]</td>\n",
       "    </tr>\n",
       "  </tbody>\n",
       "</table>\n",
       "</div>"
      ],
      "text/plain": [
       "  sentiment  \\\n",
       "0   neutral   \n",
       "1   neutral   \n",
       "2  negative   \n",
       "3  positive   \n",
       "4  positive   \n",
       "\n",
       "                                                                                                                                                                                                                           newsHeadline  \\\n",
       "0                                                                                                       According to Gran , the company has no plans to move all production to Russia , although that is where the company is growing .   \n",
       "1                                        Technopolis plans to develop in stages an area of no less than 100,000 square meters in order to host companies working in computer technologies and telecommunications , the statement said .   \n",
       "2  The international electronic industry company Elcoteq has laid off tens of employees from its Tallinn facility ; contrary to earlier layoffs the company contracted the ranks of its office workers , the daily Postimees reported .   \n",
       "3                        With the new production plant the company would increase its capacity to meet the expected increase in demand and would improve the use of raw materials and therefore increase the production profitability .   \n",
       "4                           According to the company 's updated strategy for the years 2009-2012 , Basware targets a long-term net sales growth in the range of 20 % -40 % with an operating profit margin of 10 % -20 % of net sales .   \n",
       "\n",
       "                                                                                                                                                                                                                                                lemmaTokens  \n",
       "0                                                                                                            [according, to, gran, the, company, ha, no, plan, to, move, all, production, to, russia, although, that, is, where, the, company, is, growing]  \n",
       "1                                             [technopolis, plan, to, develop, in, stage, an, area, of, no, le, than, 100000, square, meter, in, order, to, host, company, working, in, computer, technology, and, telecommunication, the, statement, said]  \n",
       "2  [the, international, electronic, industry, company, elcoteq, ha, laid, off, ten, of, employee, from, it, tallinn, facility, contrary, to, earlier, layoff, the, company, contracted, the, rank, of, it, office, worker, the, daily, postimees, reported]  \n",
       "3               [with, the, new, production, plant, the, company, would, increase, it, capacity, to, meet, the, expected, increase, in, demand, and, would, improve, the, use, of, raw, material, and, therefore, increase, the, production, profitability]  \n",
       "4                                [according, to, the, company, s, updated, strategy, for, the, year, 20092012, basware, target, a, longterm, net, sale, growth, in, the, range, of, 20, 40, with, an, operating, profit, margin, of, 10, 20, of, net, sale]  "
      ]
     },
     "execution_count": 8,
     "metadata": {},
     "output_type": "execute_result"
    }
   ],
   "source": [
    "#Process newsHeadline data\n",
    "tokens= Preprocessor(rawData.loc[:,'newsHeadline'])\n",
    "\n",
    "tokens.normalization()\n",
    "tokens.tokenization()\n",
    "tokens.lemmatization()\n",
    "\n",
    "#Append lemma to raw data for word cloud visualiztion\n",
    "cleanDf= rawData.copy()\n",
    "cleanDf['lemmaTokens']= tokens.lemmaTokens\n",
    "\n",
    "cleanDf.head()"
   ]
  },
  {
   "cell_type": "code",
   "execution_count": null,
   "id": "4a371a05",
   "metadata": {},
   "outputs": [],
   "source": []
  },
  {
   "cell_type": "code",
   "execution_count": 9,
   "id": "f562fb49",
   "metadata": {},
   "outputs": [],
   "source": [
    "from wordcloud import WordCloud, STOPWORDS, ImageColorGenerator\n",
    "\n",
    "\n",
    "#Positive Words"
   ]
  },
  {
   "cell_type": "code",
   "execution_count": 10,
   "id": "fa714fc1",
   "metadata": {},
   "outputs": [],
   "source": [
    "#Negative Sentiment Words"
   ]
  },
  {
   "cell_type": "code",
   "execution_count": 11,
   "id": "7f90bf47",
   "metadata": {},
   "outputs": [],
   "source": [
    "#Neutral Sentiment Words"
   ]
  },
  {
   "cell_type": "code",
   "execution_count": null,
   "id": "c0497c4b",
   "metadata": {},
   "outputs": [],
   "source": []
  },
  {
   "cell_type": "code",
   "execution_count": null,
   "id": "28fbd5d2",
   "metadata": {},
   "outputs": [],
   "source": []
  }
 ],
 "metadata": {
  "kernelspec": {
   "display_name": "NLP",
   "language": "python",
   "name": "nlp"
  },
  "language_info": {
   "codemirror_mode": {
    "name": "ipython",
    "version": 3
   },
   "file_extension": ".py",
   "mimetype": "text/x-python",
   "name": "python",
   "nbconvert_exporter": "python",
   "pygments_lexer": "ipython3",
   "version": "3.8.8"
  }
 },
 "nbformat": 4,
 "nbformat_minor": 5
}
