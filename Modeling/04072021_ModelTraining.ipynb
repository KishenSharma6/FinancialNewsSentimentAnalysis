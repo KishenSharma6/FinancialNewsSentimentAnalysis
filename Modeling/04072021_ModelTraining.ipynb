{
 "cells": [
  {
   "cell_type": "code",
   "execution_count": 1,
   "id": "119242e3",
   "metadata": {},
   "outputs": [],
   "source": [
    "import pandas as pd\n",
    "import numpy as np\n",
    "import matplotlib.pyplot as plt\n",
    "import seaborn as sns\n",
    "import yaml\n",
    "import os"
   ]
  },
  {
   "cell_type": "code",
   "execution_count": 2,
   "id": "4d8d72e1",
   "metadata": {},
   "outputs": [],
   "source": [
    "#Set notebook preferences\n",
    "pd.set_option('display.max_colwidth', None)\n",
    "\n",
    "plt.style.use('ggplot')"
   ]
  },
  {
   "cell_type": "code",
   "execution_count": 3,
   "id": "f517c291",
   "metadata": {},
   "outputs": [],
   "source": [
    "#Read in rawData\n",
    "path= r'/Users/ksharma/Documents/ML Engineer/Machine Learning/Projects/FinancialNewsSentimentAnalysis/'\n",
    "config_name= 'config.yaml'\n",
    "\n",
    "#read yaml file\n",
    "with open(os.path.join(path, config_name)) as file:\n",
    "    config = yaml.safe_load(file)\n",
    "    \n",
    "rawData= pd.read_csv(config['paths']['rawData'], header=None)\n",
    "rawData.columns= ['sentiment', 'newsHeadline']"
   ]
  },
  {
   "cell_type": "markdown",
   "id": "721c4614",
   "metadata": {},
   "source": [
    "**Preview Data**"
   ]
  },
  {
   "cell_type": "code",
   "execution_count": 4,
   "id": "76dcaa55",
   "metadata": {},
   "outputs": [
    {
     "name": "stdout",
     "output_type": "stream",
     "text": [
      "Data Shape: (4846, 2)\n",
      "\n",
      "Value counts: \n",
      "neutral     2879\n",
      "positive    1363\n",
      "negative     604\n",
      "Name: sentiment, dtype: int64\n",
      "\n"
     ]
    },
    {
     "data": {
      "text/html": [
       "<div>\n",
       "<style scoped>\n",
       "    .dataframe tbody tr th:only-of-type {\n",
       "        vertical-align: middle;\n",
       "    }\n",
       "\n",
       "    .dataframe tbody tr th {\n",
       "        vertical-align: top;\n",
       "    }\n",
       "\n",
       "    .dataframe thead th {\n",
       "        text-align: right;\n",
       "    }\n",
       "</style>\n",
       "<table border=\"1\" class=\"dataframe\">\n",
       "  <thead>\n",
       "    <tr style=\"text-align: right;\">\n",
       "      <th></th>\n",
       "      <th>sentiment</th>\n",
       "      <th>newsHeadline</th>\n",
       "    </tr>\n",
       "  </thead>\n",
       "  <tbody>\n",
       "    <tr>\n",
       "      <th>0</th>\n",
       "      <td>neutral</td>\n",
       "      <td>According to Gran , the company has no plans to move all production to Russia , although that is where the company is growing .</td>\n",
       "    </tr>\n",
       "    <tr>\n",
       "      <th>1</th>\n",
       "      <td>neutral</td>\n",
       "      <td>Technopolis plans to develop in stages an area of no less than 100,000 square meters in order to host companies working in computer technologies and telecommunications , the statement said .</td>\n",
       "    </tr>\n",
       "    <tr>\n",
       "      <th>2</th>\n",
       "      <td>negative</td>\n",
       "      <td>The international electronic industry company Elcoteq has laid off tens of employees from its Tallinn facility ; contrary to earlier layoffs the company contracted the ranks of its office workers , the daily Postimees reported .</td>\n",
       "    </tr>\n",
       "    <tr>\n",
       "      <th>3</th>\n",
       "      <td>positive</td>\n",
       "      <td>With the new production plant the company would increase its capacity to meet the expected increase in demand and would improve the use of raw materials and therefore increase the production profitability .</td>\n",
       "    </tr>\n",
       "    <tr>\n",
       "      <th>4</th>\n",
       "      <td>positive</td>\n",
       "      <td>According to the company 's updated strategy for the years 2009-2012 , Basware targets a long-term net sales growth in the range of 20 % -40 % with an operating profit margin of 10 % -20 % of net sales .</td>\n",
       "    </tr>\n",
       "  </tbody>\n",
       "</table>\n",
       "</div>"
      ],
      "text/plain": [
       "  sentiment  \\\n",
       "0   neutral   \n",
       "1   neutral   \n",
       "2  negative   \n",
       "3  positive   \n",
       "4  positive   \n",
       "\n",
       "                                                                                                                                                                                                                           newsHeadline  \n",
       "0                                                                                                       According to Gran , the company has no plans to move all production to Russia , although that is where the company is growing .  \n",
       "1                                        Technopolis plans to develop in stages an area of no less than 100,000 square meters in order to host companies working in computer technologies and telecommunications , the statement said .  \n",
       "2  The international electronic industry company Elcoteq has laid off tens of employees from its Tallinn facility ; contrary to earlier layoffs the company contracted the ranks of its office workers , the daily Postimees reported .  \n",
       "3                        With the new production plant the company would increase its capacity to meet the expected increase in demand and would improve the use of raw materials and therefore increase the production profitability .  \n",
       "4                           According to the company 's updated strategy for the years 2009-2012 , Basware targets a long-term net sales growth in the range of 20 % -40 % with an operating profit margin of 10 % -20 % of net sales .  "
      ]
     },
     "metadata": {},
     "output_type": "display_data"
    }
   ],
   "source": [
    "print('Data Shape: %s\\n' % (str(rawData.shape)))\n",
    "print('Value counts: \\n%s\\n' % (rawData['sentiment'].value_counts()))\n",
    "display(rawData.head())"
   ]
  },
  {
   "cell_type": "markdown",
   "id": "2e6fa49e",
   "metadata": {},
   "source": [
    "Preprocess data"
   ]
  },
  {
   "cell_type": "code",
   "execution_count": 5,
   "id": "6c5a8487",
   "metadata": {},
   "outputs": [
    {
     "data": {
      "text/html": [
       "<div>\n",
       "<style scoped>\n",
       "    .dataframe tbody tr th:only-of-type {\n",
       "        vertical-align: middle;\n",
       "    }\n",
       "\n",
       "    .dataframe tbody tr th {\n",
       "        vertical-align: top;\n",
       "    }\n",
       "\n",
       "    .dataframe thead th {\n",
       "        text-align: right;\n",
       "    }\n",
       "</style>\n",
       "<table border=\"1\" class=\"dataframe\">\n",
       "  <thead>\n",
       "    <tr style=\"text-align: right;\">\n",
       "      <th></th>\n",
       "      <th>sentiment</th>\n",
       "      <th>newsHeadline</th>\n",
       "      <th>lemmaTokens</th>\n",
       "      <th>lemmaTokensSentences</th>\n",
       "    </tr>\n",
       "  </thead>\n",
       "  <tbody>\n",
       "    <tr>\n",
       "      <th>0</th>\n",
       "      <td>neutral</td>\n",
       "      <td>According to Gran , the company has no plans to move all production to Russia , although that is where the company is growing .</td>\n",
       "      <td>[according, gran, company, plan, move, production, russia, although, company, growing]</td>\n",
       "      <td>according gran company plan move production russia although company growing</td>\n",
       "    </tr>\n",
       "    <tr>\n",
       "      <th>1</th>\n",
       "      <td>neutral</td>\n",
       "      <td>Technopolis plans to develop in stages an area of no less than 100,000 square meters in order to host companies working in computer technologies and telecommunications , the statement said .</td>\n",
       "      <td>[technopolis, plan, develop, stage, area, le, 100000, square, meter, order, host, company, working, computer, technology, telecommunication, statement, said]</td>\n",
       "      <td>technopolis plan develop stage area le 100000 square meter order host company working computer technology telecommunication statement said</td>\n",
       "    </tr>\n",
       "    <tr>\n",
       "      <th>2</th>\n",
       "      <td>negative</td>\n",
       "      <td>The international electronic industry company Elcoteq has laid off tens of employees from its Tallinn facility ; contrary to earlier layoffs the company contracted the ranks of its office workers , the daily Postimees reported .</td>\n",
       "      <td>[international, electronic, industry, company, elcoteq, laid, ten, employee, tallinn, facility, contrary, earlier, layoff, company, contracted, rank, office, worker, daily, postimees, reported]</td>\n",
       "      <td>international electronic industry company elcoteq laid ten employee tallinn facility contrary earlier layoff company contracted rank office worker daily postimees reported</td>\n",
       "    </tr>\n",
       "    <tr>\n",
       "      <th>3</th>\n",
       "      <td>positive</td>\n",
       "      <td>With the new production plant the company would increase its capacity to meet the expected increase in demand and would improve the use of raw materials and therefore increase the production profitability .</td>\n",
       "      <td>[new, production, plant, company, would, increase, capacity, meet, expected, increase, demand, would, improve, use, raw, material, therefore, increase, production, profitability]</td>\n",
       "      <td>new production plant company would increase capacity meet expected increase demand would improve use raw material therefore increase production profitability</td>\n",
       "    </tr>\n",
       "    <tr>\n",
       "      <th>4</th>\n",
       "      <td>positive</td>\n",
       "      <td>According to the company 's updated strategy for the years 2009-2012 , Basware targets a long-term net sales growth in the range of 20 % -40 % with an operating profit margin of 10 % -20 % of net sales .</td>\n",
       "      <td>[according, company, updated, strategy, year, 20092012, basware, target, longterm, net, sale, growth, range, 20, 40, operating, profit, margin, 10, 20, net, sale]</td>\n",
       "      <td>according company updated strategy year 20092012 basware target longterm net sale growth range 20 40 operating profit margin 10 20 net sale</td>\n",
       "    </tr>\n",
       "  </tbody>\n",
       "</table>\n",
       "</div>"
      ],
      "text/plain": [
       "  sentiment  \\\n",
       "0   neutral   \n",
       "1   neutral   \n",
       "2  negative   \n",
       "3  positive   \n",
       "4  positive   \n",
       "\n",
       "                                                                                                                                                                                                                           newsHeadline  \\\n",
       "0                                                                                                       According to Gran , the company has no plans to move all production to Russia , although that is where the company is growing .   \n",
       "1                                        Technopolis plans to develop in stages an area of no less than 100,000 square meters in order to host companies working in computer technologies and telecommunications , the statement said .   \n",
       "2  The international electronic industry company Elcoteq has laid off tens of employees from its Tallinn facility ; contrary to earlier layoffs the company contracted the ranks of its office workers , the daily Postimees reported .   \n",
       "3                        With the new production plant the company would increase its capacity to meet the expected increase in demand and would improve the use of raw materials and therefore increase the production profitability .   \n",
       "4                           According to the company 's updated strategy for the years 2009-2012 , Basware targets a long-term net sales growth in the range of 20 % -40 % with an operating profit margin of 10 % -20 % of net sales .   \n",
       "\n",
       "                                                                                                                                                                                         lemmaTokens  \\\n",
       "0                                                                                                             [according, gran, company, plan, move, production, russia, although, company, growing]   \n",
       "1                                      [technopolis, plan, develop, stage, area, le, 100000, square, meter, order, host, company, working, computer, technology, telecommunication, statement, said]   \n",
       "2  [international, electronic, industry, company, elcoteq, laid, ten, employee, tallinn, facility, contrary, earlier, layoff, company, contracted, rank, office, worker, daily, postimees, reported]   \n",
       "3                 [new, production, plant, company, would, increase, capacity, meet, expected, increase, demand, would, improve, use, raw, material, therefore, increase, production, profitability]   \n",
       "4                                 [according, company, updated, strategy, year, 20092012, basware, target, longterm, net, sale, growth, range, 20, 40, operating, profit, margin, 10, 20, net, sale]   \n",
       "\n",
       "                                                                                                                                                          lemmaTokensSentences  \n",
       "0                                                                                                  according gran company plan move production russia although company growing  \n",
       "1                                   technopolis plan develop stage area le 100000 square meter order host company working computer technology telecommunication statement said  \n",
       "2  international electronic industry company elcoteq laid ten employee tallinn facility contrary earlier layoff company contracted rank office worker daily postimees reported  \n",
       "3                new production plant company would increase capacity meet expected increase demand would improve use raw material therefore increase production profitability  \n",
       "4                                  according company updated strategy year 20092012 basware target longterm net sale growth range 20 40 operating profit margin 10 20 net sale  "
      ]
     },
     "metadata": {},
     "output_type": "display_data"
    }
   ],
   "source": [
    "#Normalize, tokenize and lemmatize text\n",
    "\n",
    "os.chdir('/Users/ksharma/Documents/ML Engineer/Machine Learning/Projects/FinancialNewsSentimentAnalysis')\n",
    "\n",
    "from src.preprocessing.preprocessing import Preprocessor\n",
    "\n",
    "#Process newsHeadline data\n",
    "tokens= Preprocessor(rawData.loc[:,'newsHeadline'])\n",
    "\n",
    "tokens.normalization()\n",
    "tokens.tokenization()\n",
    "tokens.lemmatization()\n",
    "\n",
    "#Append lemma to raw data \n",
    "cleanDf= rawData.copy()\n",
    "cleanDf['lemmaTokens']= tokens.lemmaTokens\n",
    "\n",
    "#Join lemmaTokens into a single string and append to cleanDf\n",
    "sentences= cleanDf['lemmaTokens'].apply(lambda x: ' '.join(x))\n",
    "cleanDf.loc[:, 'lemmaTokensSentences']= sentences\n",
    "\n",
    "#Check\n",
    "display(cleanDf.head())"
   ]
  },
  {
   "cell_type": "markdown",
   "id": "2d88806f",
   "metadata": {},
   "source": [
    "Split data"
   ]
  },
  {
   "cell_type": "code",
   "execution_count": 6,
   "id": "d22d88d4",
   "metadata": {},
   "outputs": [],
   "source": [
    "X= cleanDf.loc[:, 'lemmaTokensSentences']\n",
    "y= cleanDf.loc[:, 'sentiment'].values"
   ]
  },
  {
   "cell_type": "code",
   "execution_count": 7,
   "id": "01d9da9c",
   "metadata": {},
   "outputs": [],
   "source": [
    "from src.preprocessing.preprocessing import DataRepresentation\n",
    "\n",
    "trial1= DataRepresentation(X, y)\n",
    "trial1.split_data()"
   ]
  },
  {
   "cell_type": "code",
   "execution_count": 8,
   "id": "a64b3017",
   "metadata": {},
   "outputs": [
    {
     "data": {
      "text/plain": [
       "(3876,)"
      ]
     },
     "execution_count": 8,
     "metadata": {},
     "output_type": "execute_result"
    }
   ],
   "source": [
    "trial1.X_train.shape"
   ]
  },
  {
   "cell_type": "markdown",
   "id": "849c0f82",
   "metadata": {},
   "source": [
    "Create BoW Representation of training data"
   ]
  },
  {
   "cell_type": "code",
   "execution_count": 9,
   "id": "59ea39eb",
   "metadata": {
    "jupyter": {
     "source_hidden": true
    },
    "tags": []
   },
   "outputs": [],
   "source": [
    "X_train_BoW= trial1.bag_of_words()"
   ]
  },
  {
   "cell_type": "code",
   "execution_count": 10,
   "id": "3e3f26c9",
   "metadata": {},
   "outputs": [
    {
     "data": {
      "text/plain": [
       "<3876x9152 sparse matrix of type '<class 'numpy.int64'>'\n",
       "\twith 47754 stored elements in Compressed Sparse Row format>"
      ]
     },
     "execution_count": 10,
     "metadata": {},
     "output_type": "execute_result"
    }
   ],
   "source": [
    "X_train_BoW"
   ]
  },
  {
   "cell_type": "code",
   "execution_count": 35,
   "id": "be26c20e",
   "metadata": {},
   "outputs": [
    {
     "name": "stdout",
     "output_type": "stream",
     "text": [
      "The autoreload extension is already loaded. To reload it, use:\n",
      "  %reload_ext autoreload\n"
     ]
    }
   ],
   "source": [
    "%load_ext autoreload\n",
    "%autoreload 2"
   ]
  },
  {
   "cell_type": "code",
   "execution_count": 36,
   "id": "31778364",
   "metadata": {},
   "outputs": [],
   "source": [
    "from src.modeling.modeling import Models"
   ]
  },
  {
   "cell_type": "code",
   "execution_count": 37,
   "id": "d6774b72",
   "metadata": {},
   "outputs": [],
   "source": [
    "baseModels= Models(X_train_BoW, trial1.y_train)"
   ]
  },
  {
   "cell_type": "code",
   "execution_count": 38,
   "id": "2ae643ca",
   "metadata": {},
   "outputs": [
    {
     "name": "stdout",
     "output_type": "stream",
     "text": [
      "=========================\n",
      "LogisticRegression(multi_class='multinomial', n_jobs=-1) Scores: [0.73969072 0.74709677 0.72516129 0.75225806 0.75096774]\n",
      "Average Sccore: 0.74\n",
      "Standard Deviations: 0.01\n",
      "=========================\n",
      "RandomForestClassifier(n_jobs=-1, random_state=24) Scores: [0.74484536 0.73677419 0.7316129  0.7316129  0.75354839]\n",
      "Average Sccore: 0.74\n",
      "Standard Deviations: 0.01\n",
      "=========================\n",
      "KNeighborsClassifier(n_jobs=-1) Scores: [0.63917526 0.64       0.64129032 0.64516129 0.65548387]\n",
      "Average Sccore: 0.64\n",
      "Standard Deviations: 0.01\n"
     ]
    },
    {
     "name": "stderr",
     "output_type": "stream",
     "text": [
      "/Users/ksharma/miniforge3/envs/NLP/lib/python3.8/site-packages/sklearn/svm/_base.py:985: ConvergenceWarning: Liblinear failed to converge, increase the number of iterations.\n",
      "  warnings.warn(\"Liblinear failed to converge, increase \"\n",
      "/Users/ksharma/miniforge3/envs/NLP/lib/python3.8/site-packages/sklearn/svm/_base.py:985: ConvergenceWarning: Liblinear failed to converge, increase the number of iterations.\n",
      "  warnings.warn(\"Liblinear failed to converge, increase \"\n",
      "/Users/ksharma/miniforge3/envs/NLP/lib/python3.8/site-packages/sklearn/svm/_base.py:985: ConvergenceWarning: Liblinear failed to converge, increase the number of iterations.\n",
      "  warnings.warn(\"Liblinear failed to converge, increase \"\n",
      "/Users/ksharma/miniforge3/envs/NLP/lib/python3.8/site-packages/sklearn/svm/_base.py:985: ConvergenceWarning: Liblinear failed to converge, increase the number of iterations.\n",
      "  warnings.warn(\"Liblinear failed to converge, increase \"\n"
     ]
    },
    {
     "name": "stdout",
     "output_type": "stream",
     "text": [
      "=========================\n",
      "LinearSVC(multi_class='crammer_singer', random_state=24) Scores: [0.68943299 0.71354839 0.70967742 0.70967742 0.72387097]\n",
      "Average Sccore: 0.71\n",
      "Standard Deviations: 0.01\n"
     ]
    },
    {
     "name": "stderr",
     "output_type": "stream",
     "text": [
      "/Users/ksharma/miniforge3/envs/NLP/lib/python3.8/site-packages/sklearn/svm/_base.py:985: ConvergenceWarning: Liblinear failed to converge, increase the number of iterations.\n",
      "  warnings.warn(\"Liblinear failed to converge, increase \"\n"
     ]
    }
   ],
   "source": [
    "baseModels.base_model_evaluation()"
   ]
  },
  {
   "cell_type": "markdown",
   "id": "aca7b5d3",
   "metadata": {},
   "source": [
    "We'll optimize for Logistic Regression and Random Forest Classifier"
   ]
  },
  {
   "cell_type": "code",
   "execution_count": null,
   "id": "c5c76e86",
   "metadata": {},
   "outputs": [],
   "source": []
  },
  {
   "cell_type": "code",
   "execution_count": null,
   "id": "752b078e",
   "metadata": {},
   "outputs": [],
   "source": []
  }
 ],
 "metadata": {
  "kernelspec": {
   "display_name": "NLP",
   "language": "python",
   "name": "nlp"
  },
  "language_info": {
   "codemirror_mode": {
    "name": "ipython",
    "version": 3
   },
   "file_extension": ".py",
   "mimetype": "text/x-python",
   "name": "python",
   "nbconvert_exporter": "python",
   "pygments_lexer": "ipython3",
   "version": "3.8.8"
  }
 },
 "nbformat": 4,
 "nbformat_minor": 5
}
