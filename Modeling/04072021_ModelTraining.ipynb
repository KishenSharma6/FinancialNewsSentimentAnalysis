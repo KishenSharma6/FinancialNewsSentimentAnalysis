{
 "cells": [
  {
   "cell_type": "code",
   "execution_count": 1,
   "id": "c76f585b",
   "metadata": {},
   "outputs": [],
   "source": [
    "import pandas as pd\n",
    "import numpy as np\n",
    "import matplotlib.pyplot as plt\n",
    "import seaborn as sns\n",
    "import yaml\n",
    "import os"
   ]
  },
  {
   "cell_type": "code",
   "execution_count": 2,
   "id": "9e764f64",
   "metadata": {},
   "outputs": [],
   "source": [
    "#Set notebook preferences\n",
    "pd.set_option('display.max_colwidth', None)\n",
    "\n",
    "plt.style.use('ggplot')"
   ]
  },
  {
   "cell_type": "code",
   "execution_count": 12,
   "id": "92591c0d",
   "metadata": {},
   "outputs": [],
   "source": [
    "#Read in rawData\n",
    "path= r'/Users/ksharma/Documents/ML Engineer/Machine Learning/Projects/FinancialNewsSentimentAnalysis/'\n",
    "config_name= 'config.yaml'\n",
    "\n",
    "#read yaml file\n",
    "with open(os.path.join(path, config_name)) as file:\n",
    "    config = yaml.safe_load(file)\n",
    "    \n",
    "rawData= pd.read_csv(config['paths']['rawData'], header=None)\n",
    "rawData.columns= ['sentiment', 'newsHeadline']"
   ]
  },
  {
   "cell_type": "markdown",
   "id": "e2470ab0",
   "metadata": {},
   "source": [
    "**Preview Data**"
   ]
  },
  {
   "cell_type": "code",
   "execution_count": null,
   "id": "e6bc16ea",
   "metadata": {},
   "outputs": [],
   "source": [
    "print('Data Shape: %s\\n' % (str(rawData.shape)))\n",
    "print('Value counts: \\n%s\\n' % (rawData['sentiment'].value_counts()))\n",
    "display(rawData.head())"
   ]
  },
  {
   "cell_type": "markdown",
   "id": "d33d03c3",
   "metadata": {},
   "source": [
    "Preprocess data"
   ]
  },
  {
   "cell_type": "code",
   "execution_count": null,
   "id": "9e4cfd59",
   "metadata": {},
   "outputs": [],
   "source": [
    "os.chdir('/Users/ksharma/Documents/ML Engineer/Machine Learning/Projects/FinancialNewsSentimentAnalysis')\n",
    "from src.preprocessing.preprocessing import Preprocessor\n",
    "\n",
    "#Normalize, tokenize and lemmatize text\n",
    "tokens= Preprocessor(rawData.loc[:,'newsHeadline'])\n",
    "\n",
    "tokens.normalization()\n",
    "tokens.tokenization()\n",
    "tokens.lemmatization()\n",
    "\n",
    "#Append lemma to raw data \n",
    "cleanDf= rawData.copy()\n",
    "cleanDf['lemmaTokens']= tokens.lemmaTokens\n",
    "\n",
    "#Join lemmaTokens into a single string and append to cleanDf\n",
    "sentences= cleanDf['lemmaTokens'].apply(lambda x: ' '.join(x))\n",
    "cleanDf.loc[:, 'lemmaTokensSentences']= sentences\n",
    "\n",
    "#Check\n",
    "display(cleanDf.head())"
   ]
  },
  {
   "cell_type": "markdown",
   "id": "14e180fc",
   "metadata": {},
   "source": [
    "Split data"
   ]
  },
  {
   "cell_type": "code",
   "execution_count": null,
   "id": "165b2222",
   "metadata": {},
   "outputs": [],
   "source": [
    "X= cleanDf.loc[:, 'lemmaTokensSentences']\n",
    "y= cleanDf.loc[:, 'sentiment'].values"
   ]
  },
  {
   "cell_type": "code",
   "execution_count": null,
   "id": "65fcaf4a",
   "metadata": {},
   "outputs": [],
   "source": [
    "#Initialize data representation object\n",
    "from src.preprocessing.preprocessing import DataRepresentation\n",
    "\n",
    "trial1= DataRepresentation(X, y)\n",
    "trial1.split_data()"
   ]
  },
  {
   "cell_type": "markdown",
   "id": "7edf77a9",
   "metadata": {},
   "source": [
    "Evaluate Base Models"
   ]
  },
  {
   "cell_type": "code",
   "execution_count": null,
   "id": "deefbffe",
   "metadata": {
    "tags": []
   },
   "outputs": [],
   "source": [
    "#Create BoW representation of data\n",
    "X_train_BoW= trial1.bag_of_words()"
   ]
  },
  {
   "cell_type": "code",
   "execution_count": null,
   "id": "af2cee5b",
   "metadata": {},
   "outputs": [],
   "source": [
    "#Init Models object and evaluate base models\n",
    "from src.modeling.modeling import Models\n",
    "\n",
    "baseModels= Models(X_train_BoW, trial1.y_train)\n",
    "\n",
    "baseModels.base_model_evaluation()"
   ]
  },
  {
   "cell_type": "markdown",
   "id": "bb084113",
   "metadata": {},
   "source": [
    "**We'll optimize for Logistic Regression, Random Forest Classifier, & Linear SVC**"
   ]
  },
  {
   "cell_type": "code",
   "execution_count": null,
   "id": "c33c5214",
   "metadata": {},
   "outputs": [],
   "source": []
  },
  {
   "cell_type": "code",
   "execution_count": null,
   "id": "9f2c55c7",
   "metadata": {},
   "outputs": [],
   "source": [
    "%load_ext autoreload\n",
    "%autoreload 2"
   ]
  },
  {
   "cell_type": "code",
   "execution_count": null,
   "id": "99f2bea5",
   "metadata": {},
   "outputs": [],
   "source": [
    "%reload_ext autoreload"
   ]
  },
  {
   "cell_type": "code",
   "execution_count": 14,
   "id": "2c40aa7d",
   "metadata": {},
   "outputs": [
    {
     "data": {
      "text/plain": [
       "{'penalty': ['l1', 'l2', 'elasticnet', 'none'],\n",
       " 'C': [0.1, 0.01, 1],\n",
       " 'kernel': \"('linear', 'rbf')\",\n",
       " 'random_state': 24,\n",
       " 'n_jobs': '-1}'}"
      ]
     },
     "execution_count": 14,
     "metadata": {},
     "output_type": "execute_result"
    }
   ],
   "source": [
    "config['tuning']['logisticRegression']['param_grid']"
   ]
  },
  {
   "cell_type": "code",
   "execution_count": null,
   "id": "b938ef57",
   "metadata": {},
   "outputs": [],
   "source": []
  }
 ],
 "metadata": {
  "kernelspec": {
   "display_name": "NLP",
   "language": "python",
   "name": "nlp"
  },
  "language_info": {
   "codemirror_mode": {
    "name": "ipython",
    "version": 3
   },
   "file_extension": ".py",
   "mimetype": "text/x-python",
   "name": "python",
   "nbconvert_exporter": "python",
   "pygments_lexer": "ipython3",
   "version": "3.8.8"
  }
 },
 "nbformat": 4,
 "nbformat_minor": 5
}
